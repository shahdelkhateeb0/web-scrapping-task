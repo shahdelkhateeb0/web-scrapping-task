{
 "cells": [
  {
   "cell_type": "markdown",
   "metadata": {},
   "source": []
  },
  {
   "cell_type": "code",
   "execution_count": 1,
   "metadata": {},
   "outputs": [],
   "source": [
    "import requests\n",
    "from bs4 import BeautifulSoup"
   ]
  },
  {
   "cell_type": "code",
   "execution_count": 6,
   "metadata": {},
   "outputs": [],
   "source": [
    "soup = BeautifulSoup(response.text, 'html.parser')"
   ]
  },
  {
   "cell_type": "code",
   "execution_count": 4,
   "metadata": {},
   "outputs": [
    {
     "name": "stdout",
     "output_type": "stream",
     "text": [
      "<!DOCTYPE html>\n",
      "\n",
      "<html>\n",
      "\n",
      "    <head>\n",
      "        <title>Web Scraping Task with Form</title>\n",
      "\n",
      "         <style>\n",
      "        body {\n",
      "            font-family: Arial, sans-serif;\n",
      "            margin: 20px;\n",
      "            background-color: #f5f5f5;\n",
      "        }\n",
      "\n",
      "        h1 {\n",
      "            color: darkred;\n",
      "            text-align: center;\n",
      "        }\n",
      "\n",
      "        h2 {\n",
      "            color: darkblue;\n",
      "            font-style: italic;\n",
      "        }\n",
      "\n",
      "        p {\n",
      "            color: #555;\n",
      "            font-size: 14px;\n",
      "        }\n",
      "\n",
      "        img {\n",
      "            width: 250px;\n",
      "            height: auto;\n",
      "            border-radius: 10px;\n",
      "        }\n",
      "\n",
      "        table {\n",
      "            width: 100%;\n",
      "            border-collapse: collapse;\n",
      "            margin: 20px 0;\n",
      "        }\n",
      "\n",
      "        table, th, td {\n",
      "            border: 1px solid #ccc;\n",
      "        }\n",
      "\n",
      "        th {\n",
      "            background-color: #333;\n",
      "            color: white;\n",
      "            padding: 10px;\n",
      "        }\n",
      "\n",
      "        td {\n",
      "            text-align: center;\n",
      "            padding: 10px;\n",
      "        }\n",
      "\n",
      "        .btn {\n",
      "            background-color: darkgreen;\n",
      "            color: white;\n",
      "            border: none;\n",
      "            padding: 10px 20px;\n",
      "            cursor: pointer;\n",
      "            text-transform: uppercase;\n",
      "            font-weight: bold;\n",
      "        }\n",
      "\n",
      "        .btn:hover {\n",
      "            background-color: green;\n",
      "        }\n",
      "\n",
      "        ul {\n",
      "            list-style-type: square;\n",
      "        }\n",
      "\n",
      "        iframe {\n",
      "            display: block;\n",
      "            margin: 20px auto;\n",
      "            border: none;\n",
      "        }\n",
      "\n",
      "        .footer {\n",
      "            background-color: #333;\n",
      "            color: white;\n",
      "            text-align: center;\n",
      "            padding: 10px 0;\n",
      "            margin-top: 30px;\n",
      "        }\n",
      "\n",
      "        .highlight {\n",
      "            background-color: yellow;\n",
      "            font-weight: bold;\n",
      "        }\n",
      "\n",
      "        form {\n",
      "            margin: 20px 0;\n",
      "            background-color: #fff;\n",
      "            padding: 20px;\n",
      "            border: 1px solid #ccc;\n",
      "            border-radius: 5px;\n",
      "        }\n",
      "\n",
      "        form input, form select, form button {\n",
      "            display: block;\n",
      "            margin: 10px 0;\n",
      "            padding: 10px;\n",
      "            width: 100%;\n",
      "            max-width: 400px;\n",
      "            border: 1px solid #ccc;\n",
      "            border-radius: 5px;\n",
      "        }\n",
      "\n",
      "        .products {\n",
      "            display: flex;\n",
      "            flex-wrap: wrap;\n",
      "            justify-content: center;\n",
      "            gap: 20px;\n",
      "            margin-top: 30px;\n",
      "        }\n",
      "\n",
      "        .product-card {\n",
      "            width: 250px;\n",
      "            border: 1px solid #ddd;\n",
      "            border-radius: 8px;\n",
      "            background-color: #fff;\n",
      "            box-shadow: 0 4px 6px rgba(0, 0, 0, 0.1);\n",
      "            text-align: center;\n",
      "            overflow: hidden;\n",
      "            transition: transform 0.3s ease, box-shadow 0.3s ease;\n",
      "        }\n",
      "\n",
      "        .product-card:hover {\n",
      "            transform: translateY(-5px);\n",
      "            box-shadow: 0 8px 12px rgba(0, 0, 0, 0.2);\n",
      "        }\n",
      "\n",
      "        .product-card img {\n",
      "            width: 100%;\n",
      "            height: 150px;\n",
      "            object-fit: cover;\n",
      "        }\n",
      "\n",
      "        .product-card .name {\n",
      "            font-size: 18px;\n",
      "            font-weight: bold;\n",
      "            margin: 15px 0 5px;\n",
      "            color: #333;\n",
      "        }\n",
      "\n",
      "        .product-card .price {\n",
      "            font-size: 16px;\n",
      "            color: #28a745;\n",
      "            margin: 5px 0;\n",
      "        }\n",
      "\n",
      "        .product-card .colors {\n",
      "            font-size: 14px;\n",
      "            color: #666;\n",
      "            margin-bottom: 15px;\n",
      "        }\n",
      "\n",
      "        .product-card button {\n",
      "            background-color: #007bff;\n",
      "            color: white;\n",
      "            border: none;\n",
      "            padding: 10px 20px;\n",
      "            margin: 10px 0;\n",
      "            cursor: pointer;\n",
      "            border-radius: 5px;\n",
      "            font-size: 14px;\n",
      "            transition: background-color 0.3s ease;\n",
      "        }\n",
      "\n",
      "        .product-card button:hover {\n",
      "            background-color: #0056b3;\n",
      "        }\n",
      "    </style>\n",
      "    </head>\n",
      "\n",
      "    <body>\n",
      "        <h1>Web Scraping Practice</h1>\n",
      "        <p>Welcome to the web scraping task! Use your skills to extract the required data from this page.</p>\n",
      "\n",
      "        <h2>Available Products</h2>\n",
      "        <ul>\n",
      "            <li class=\"highlight\">Laptop</li>\n",
      "            <li>Smartphone</li>\n",
      "            <li>Tablet</li>\n",
      "            <li>Smartwatch</li>\n",
      "        </ul>\n",
      "\n",
      "        <h2>Product Table</h2>\n",
      "        <table>\n",
      "            <tr>\n",
      "                <th>Product</th>\n",
      "                <th>Price</th>\n",
      "                <th>In Stock</th>\n",
      "            </tr>\n",
      "            <tr>\n",
      "                <td>Laptop</td>\n",
      "                <td>$1000</td>\n",
      "                <td>Yes</td>\n",
      "            </tr>\n",
      "            <tr>\n",
      "                <td>Smartphone</td>\n",
      "                <td>$800</td>\n",
      "                <td>No</td>\n",
      "            </tr>\n",
      "            <tr>\n",
      "                <td>Tablet</td>\n",
      "                <td>$500</td>\n",
      "                <td>Yes</td>\n",
      "            </tr>\n",
      "        </table>\n",
      "\n",
      "        <h2>Watch This Video</h2>\n",
      "        <iframe width=\"560\" height=\"315\" src=\"https://www.youtube.com/watch?v=ujf9RNuBdCU\"></iframe>\n",
      "        \n",
      "        \n",
      "\n",
      "        \n",
      "        <h2>Contact Us</h2>\n",
      "        <form>\n",
      "            <label for=\"username\">Username:</label>\n",
      "            <input type=\"text\" id=\"username\" name=\"username\" placeholder=\"Enter your username\">\n",
      "\n",
      "            <label for=\"password\">Password:</label>\n",
      "            <input type=\"password\" id=\"password\" name=\"password\" placeholder=\"Enter your password\">\n",
      "\n",
      "            <label for=\"options\">Choose an option:</label>\n",
      "            <select id=\"options\" name=\"options\">\n",
      "                <option value=\"option1\">Option 1</option>\n",
      "                <option value=\"option2\">Option 2</option>\n",
      "                <option value=\"option3\">Option 3</option>\n",
      "            </select>\n",
      "\n",
      "            <label>\n",
      "                <input type=\"checkbox\" name=\"terms\"> I agree to the terms and conditions\n",
      "            </label>\n",
      "\n",
      "            <input type=\"submit\" value=\"Submit\">\n",
      "        </form>\n",
      "\n",
      "<h2>Product Information</h2>\n",
      "<div style=\"display: flex; justify-content: space-around; margin-top: 20px;\">\n",
      "    <div style=\"text-align: center; width: 200px; border: 1px solid #ddd; padding: 10px; border-radius: 5px;\">\n",
      "        <img src=\"book1.jpg\" alt=\"Sharp Objects\" style=\"width: 100%; height: auto; border-radius: 5px;\">\n",
      "        <p><strong>Sharp Objects</strong></p>\n",
      "        <p style=\"color: green;\">£47.82</p>\n",
      "        <p style=\"color: green;\">✔ In stock</p>\n",
      "        <button style=\"background-color: blue; color: white; border: none; padding: 10px 15px; border-radius: 5px; cursor: pointer;\">Add to basket</button>\n",
      "    </div>\n",
      "\n",
      "    <div style=\"text-align: center; width: 200px; border: 1px solid #ddd; padding: 10px; border-radius: 5px;\">\n",
      "        <img src=\"book2.jpg\" alt=\"In a Dark, Dark Wood\" style=\"width: 100%; height: auto; border-radius: 5px;\">\n",
      "        <p><strong>In a Dark, Dark Wood</strong></p>\n",
      "        <p style=\"color: green;\">£19.63</p>\n",
      "        <p style=\"color: green;\">✔ In stock</p>\n",
      "        <button style=\"background-color: blue; color: white; border: none; padding: 10px 15px; border-radius: 5px; cursor: pointer;\">Add to basket</button>\n",
      "    </div>\n",
      "\n",
      "    <div style=\"text-align: center; width: 200px; border: 1px solid #ddd; padding: 10px; border-radius: 5px;\">\n",
      "        <img href=\"http://books.toscrape.com/media/cache/c0/59/c05972805aa7201171b8fc71a5b00292.jpg\" alt=\"The Past Never Ends\" style=\"width: 100%; height: auto; border-radius: 5px;\">\n",
      "        <p><strong>The Past Never Ends</strong></p>\n",
      "        <p style=\"color: green;\">£56.50</p>\n",
      "        <p style=\"color: green;\">✔ In stock</p>\n",
      "        <button style=\"background-color: blue; color: white; border: none; padding: 10px 15px; border-radius: 5px; cursor: pointer;\">Add to basket</button>\n",
      "    </div>\n",
      "\n",
      "    <div style=\"text-align: center; width: 200px; border: 1px solid #ddd; padding: 10px; border-radius: 5px;\">\n",
      "        <img src=\"book4.jpg\" alt=\"A Murder in Time\" style=\"width: 100%; height: auto; border-radius: 5px;\">\n",
      "        <p><strong>A Murder in Time</strong></p>\n",
      "        <p style=\"color: green;\">£16.64</p>\n",
      "        <p style=\"color: green;\"> Out stock</p>\n",
      "        <button style=\"background-color: blue; color: white; border: none; padding: 10px 15px; border-radius: 5px; cursor: pointer;\">Add to basket</button>\n",
      "    </div>\n",
      "</div>\n",
      "\n",
      "    \n",
      "\n",
      "    <h2>Featured Products</h2>\n",
      "    <div class=\"products\">\n",
      "        <div class=\"product-card\" data-id=\"101\">\n",
      "            <img src=\"https://via.placeholder.com/250x150?text=Product+1\" alt=\"Wireless Headphones\">\n",
      "            <p class=\"name\">Wireless Headphones</p>\n",
      "            <p class=\"price\" style=\"display: none;\">$49.99</p>\n",
      "            <p class=\"colors\">Available colors: Black, White, Blue</p>\n",
      "            <button>Add to Basket</button>\n",
      "        </div>\n",
      "        <div class=\"product-card\" data-id=\"102\">\n",
      "            <img src=\"https://via.placeholder.com/250x150?text=Product+2\" alt=\"Smart Speaker\">\n",
      "            <p class=\"name\">Smart Speaker</p>\n",
      "            <p class=\"price\" style=\"display: none;\">$89.99</p>\n",
      "            <p class=\"colors\">Available colors: Grey, Black</p>\n",
      "            <button>Add to Basket</button>\n",
      "        </div>\n",
      "        <div class=\"product-card\" data-id=\"103\">\n",
      "            <img src=\"https://via.placeholder.com/250x150?text=Product+3\" alt=\"Smart Watch\">\n",
      "            <p class=\"name\">Smart Watch</p>\n",
      "            <p class=\"price\" style=\"display: none;\">$149.99</p>\n",
      "            <p class=\"colors\">Available colors: Black, Silver, Gold</p>\n",
      "            <button>Add to Basket</button>\n",
      "        </div>\n",
      "    </div>\n",
      "\n",
      "    <div class=\"footer\">\n",
      "            <p>&copy; 2024 Web Scraping Practice. All Rights Reserved.</p>\n",
      "        </div>\n",
      "    </body>\n",
      "</html>\n",
      "\n"
     ]
    }
   ],
   "source": [
    "url = ' https://www.baraasallout.com/test.html'\n",
    "response = requests.get(url)\n",
    "print(response.text)"
   ]
  },
  {
   "cell_type": "markdown",
   "metadata": {},
   "source": []
  },
  {
   "cell_type": "markdown",
   "metadata": {},
   "source": [
    "###  Extract all headings\n",
    "- h1\n",
    "- h2"
   ]
  },
  {
   "cell_type": "code",
   "execution_count": 20,
   "metadata": {},
   "outputs": [
    {
     "data": {
      "text/plain": [
       "[<h1>Web Scraping Practice</h1>]"
      ]
     },
     "execution_count": 20,
     "metadata": {},
     "output_type": "execute_result"
    }
   ],
   "source": [
    "headers_1 = soup.find_all('h1')\n",
    "headers_1"
   ]
  },
  {
   "cell_type": "code",
   "execution_count": 21,
   "metadata": {},
   "outputs": [
    {
     "data": {
      "text/plain": [
       "[<h2>Available Products</h2>,\n",
       " <h2>Product Table</h2>,\n",
       " <h2>Watch This Video</h2>,\n",
       " <h2>Contact Us</h2>,\n",
       " <h2>Product Information</h2>,\n",
       " <h2>Featured Products</h2>]"
      ]
     },
     "execution_count": 21,
     "metadata": {},
     "output_type": "execute_result"
    }
   ],
   "source": [
    "headers_2 = soup.find_all('h2')\n",
    "headers_2"
   ]
  },
  {
   "cell_type": "code",
   "execution_count": 9,
   "metadata": {},
   "outputs": [
    {
     "data": {
      "text/plain": [
       "<p>Welcome to the web scraping task! Use your skills to extract the required data from this page.</p>"
      ]
     },
     "execution_count": 9,
     "metadata": {},
     "output_type": "execute_result"
    }
   ],
   "source": [
    "paragraph = soup.find('p')\n",
    "paragraph"
   ]
  },
  {
   "cell_type": "code",
   "execution_count": 10,
   "metadata": {},
   "outputs": [
    {
     "data": {
      "text/plain": [
       "[<p>Welcome to the web scraping task! Use your skills to extract the required data from this page.</p>,\n",
       " <p><strong>Sharp Objects</strong></p>,\n",
       " <p style=\"color: green;\">£47.82</p>,\n",
       " <p style=\"color: green;\">✔ In stock</p>,\n",
       " <p><strong>In a Dark, Dark Wood</strong></p>,\n",
       " <p style=\"color: green;\">£19.63</p>,\n",
       " <p style=\"color: green;\">✔ In stock</p>,\n",
       " <p><strong>The Past Never Ends</strong></p>,\n",
       " <p style=\"color: green;\">£56.50</p>,\n",
       " <p style=\"color: green;\">✔ In stock</p>,\n",
       " <p><strong>A Murder in Time</strong></p>,\n",
       " <p style=\"color: green;\">£16.64</p>,\n",
       " <p style=\"color: green;\"> Out stock</p>,\n",
       " <p class=\"name\">Wireless Headphones</p>,\n",
       " <p class=\"price\" style=\"display: none;\">$49.99</p>,\n",
       " <p class=\"colors\">Available colors: Black, White, Blue</p>,\n",
       " <p class=\"name\">Smart Speaker</p>,\n",
       " <p class=\"price\" style=\"display: none;\">$89.99</p>,\n",
       " <p class=\"colors\">Available colors: Grey, Black</p>,\n",
       " <p class=\"name\">Smart Watch</p>,\n",
       " <p class=\"price\" style=\"display: none;\">$149.99</p>,\n",
       " <p class=\"colors\">Available colors: Black, Silver, Gold</p>,\n",
       " <p>© 2024 Web Scraping Practice. All Rights Reserved.</p>]"
      ]
     },
     "execution_count": 10,
     "metadata": {},
     "output_type": "execute_result"
    }
   ],
   "source": [
    "all_p = soup.find_all('p')\n",
    "all_p"
   ]
  },
  {
   "cell_type": "code",
   "execution_count": 25,
   "metadata": {},
   "outputs": [],
   "source": [
    "first_ul = soup.find('ul')  \n"
   ]
  },
  {
   "cell_type": "code",
   "execution_count": 26,
   "metadata": {},
   "outputs": [
    {
     "data": {
      "text/plain": [
       "[<li class=\"highlight\">Laptop</li>,\n",
       " <li>Smartphone</li>,\n",
       " <li>Tablet</li>,\n",
       " <li>Smartwatch</li>]"
      ]
     },
     "execution_count": 26,
     "metadata": {},
     "output_type": "execute_result"
    }
   ],
   "source": [
    "all_ul_li = first_ul.find_all('li')\n",
    "all_ul_li"
   ]
  },
  {
   "cell_type": "code",
   "execution_count": 27,
   "metadata": {},
   "outputs": [
    {
     "name": "stdout",
     "output_type": "stream",
     "text": [
      "Laptop\n",
      "Smartphone\n",
      "Tablet\n",
      "Smartwatch\n"
     ]
    }
   ],
   "source": [
    "for li in all_ul_li:\n",
    "    print(li.get_text())"
   ]
  },
  {
   "cell_type": "code",
   "execution_count": null,
   "metadata": {},
   "outputs": [
    {
     "name": "stdout",
     "output_type": "stream",
     "text": [
      "Data has been saved to Extract_Text_Data.csv.\n"
     ]
    }
   ],
   "source": [
    "import pandas as pd\n",
    "\n",
    "# Fetch the webpage\n",
    "url = 'https://www.baraasallout.com/test.html'\n",
    "response = requests.get(url)\n",
    "\n",
    "# Parse the HTML content\n",
    "soup = BeautifulSoup(response.text, 'html.parser')\n",
    "\n",
    "# Extract all <h1> and <h2> headings\n",
    "headers_1 = [h1.get_text(strip=True) for h1 in soup.find_all('h1')]\n",
    "headers_2 = [h2.get_text(strip=True) for h2 in soup.find_all('h2')]\n",
    "headings = headers_1 + headers_2  # Combine all headings into a single list\n",
    "\n",
    "# Extract all <p> tags\n",
    "all_p = [p.get_text(strip=True) for p in soup.find_all('p')]\n",
    "\n",
    "# Extract all <li> tags inside the first <ul>\n",
    "first_ul = soup.find('ul')\n",
    "if first_ul:\n",
    "    all_ul_li = [li.get_text(strip=True) for li in first_ul.find_all('li')]\n",
    "else:\n",
    "    all_ul_li = []  # Initialize as an empty list if <ul> is not found\n",
    "\n",
    "# Prepare the data\n",
    "data = (\n",
    "    [('Heading', heading) for heading in headings] +\n",
    "    [('Paragraph', paragraph) for paragraph in all_p] +\n",
    "    [('List Item', list_item) for list_item in all_ul_li]\n",
    ")\n",
    "\n",
    "# Convert the data into a DataFrame\n",
    "df = pd.DataFrame(data, columns=['Type', 'Content'])\n",
    "\n",
    "csv_file = 'Extract_Text_Data.csv'\n",
    "df.to_csv(csv_file, index=False, encoding='utf-8')\n",
    "\n",
    "print(f\"Data has been saved to {csv_file}.\")\n"
   ]
  },
  {
   "cell_type": "code",
   "execution_count": 32,
   "metadata": {},
   "outputs": [
    {
     "data": {
      "text/plain": [
       "[<table>\n",
       " <tr>\n",
       " <th>Product</th>\n",
       " <th>Price</th>\n",
       " <th>In Stock</th>\n",
       " </tr>\n",
       " <tr>\n",
       " <td>Laptop</td>\n",
       " <td>$1000</td>\n",
       " <td>Yes</td>\n",
       " </tr>\n",
       " <tr>\n",
       " <td>Smartphone</td>\n",
       " <td>$800</td>\n",
       " <td>No</td>\n",
       " </tr>\n",
       " <tr>\n",
       " <td>Tablet</td>\n",
       " <td>$500</td>\n",
       " <td>Yes</td>\n",
       " </tr>\n",
       " </table>]"
      ]
     },
     "execution_count": 32,
     "metadata": {},
     "output_type": "execute_result"
    }
   ],
   "source": [
    "tables = soup.find_all('table')\n",
    "tables"
   ]
  },
  {
   "cell_type": "code",
   "execution_count": 33,
   "metadata": {},
   "outputs": [
    {
     "data": {
      "text/plain": [
       "[<td>Laptop</td>,\n",
       " <td>$1000</td>,\n",
       " <td>Yes</td>,\n",
       " <td>Smartphone</td>,\n",
       " <td>$800</td>,\n",
       " <td>No</td>,\n",
       " <td>Tablet</td>,\n",
       " <td>$500</td>,\n",
       " <td>Yes</td>]"
      ]
     },
     "execution_count": 33,
     "metadata": {},
     "output_type": "execute_result"
    }
   ],
   "source": [
    "tables[0].find_all('td')"
   ]
  },
  {
   "cell_type": "code",
   "execution_count": 28,
   "metadata": {},
   "outputs": [],
   "source": [
    "for el in soup.find_all('', attrs={'class': 'bg-yellow'}):\n",
    "    print(el.name)"
   ]
  },
  {
   "cell_type": "code",
   "execution_count": 29,
   "metadata": {},
   "outputs": [
    {
     "data": {
      "text/plain": [
       "[<div style=\"display: flex; justify-content: space-around; margin-top: 20px;\">\n",
       " <div style=\"text-align: center; width: 200px; border: 1px solid #ddd; padding: 10px; border-radius: 5px;\">\n",
       " <img alt=\"Sharp Objects\" src=\"book1.jpg\" style=\"width: 100%; height: auto; border-radius: 5px;\"/>\n",
       " <p><strong>Sharp Objects</strong></p>\n",
       " <p style=\"color: green;\">£47.82</p>\n",
       " <p style=\"color: green;\">✔ In stock</p>\n",
       " <button style=\"background-color: blue; color: white; border: none; padding: 10px 15px; border-radius: 5px; cursor: pointer;\">Add to basket</button>\n",
       " </div>\n",
       " <div style=\"text-align: center; width: 200px; border: 1px solid #ddd; padding: 10px; border-radius: 5px;\">\n",
       " <img alt=\"In a Dark, Dark Wood\" src=\"book2.jpg\" style=\"width: 100%; height: auto; border-radius: 5px;\"/>\n",
       " <p><strong>In a Dark, Dark Wood</strong></p>\n",
       " <p style=\"color: green;\">£19.63</p>\n",
       " <p style=\"color: green;\">✔ In stock</p>\n",
       " <button style=\"background-color: blue; color: white; border: none; padding: 10px 15px; border-radius: 5px; cursor: pointer;\">Add to basket</button>\n",
       " </div>\n",
       " <div style=\"text-align: center; width: 200px; border: 1px solid #ddd; padding: 10px; border-radius: 5px;\">\n",
       " <img alt=\"The Past Never Ends\" href=\"http://books.toscrape.com/media/cache/c0/59/c05972805aa7201171b8fc71a5b00292.jpg\" style=\"width: 100%; height: auto; border-radius: 5px;\"/>\n",
       " <p><strong>The Past Never Ends</strong></p>\n",
       " <p style=\"color: green;\">£56.50</p>\n",
       " <p style=\"color: green;\">✔ In stock</p>\n",
       " <button style=\"background-color: blue; color: white; border: none; padding: 10px 15px; border-radius: 5px; cursor: pointer;\">Add to basket</button>\n",
       " </div>\n",
       " <div style=\"text-align: center; width: 200px; border: 1px solid #ddd; padding: 10px; border-radius: 5px;\">\n",
       " <img alt=\"A Murder in Time\" src=\"book4.jpg\" style=\"width: 100%; height: auto; border-radius: 5px;\"/>\n",
       " <p><strong>A Murder in Time</strong></p>\n",
       " <p style=\"color: green;\">£16.64</p>\n",
       " <p style=\"color: green;\"> Out stock</p>\n",
       " <button style=\"background-color: blue; color: white; border: none; padding: 10px 15px; border-radius: 5px; cursor: pointer;\">Add to basket</button>\n",
       " </div>\n",
       " </div>,\n",
       " <div style=\"text-align: center; width: 200px; border: 1px solid #ddd; padding: 10px; border-radius: 5px;\">\n",
       " <img alt=\"Sharp Objects\" src=\"book1.jpg\" style=\"width: 100%; height: auto; border-radius: 5px;\"/>\n",
       " <p><strong>Sharp Objects</strong></p>\n",
       " <p style=\"color: green;\">£47.82</p>\n",
       " <p style=\"color: green;\">✔ In stock</p>\n",
       " <button style=\"background-color: blue; color: white; border: none; padding: 10px 15px; border-radius: 5px; cursor: pointer;\">Add to basket</button>\n",
       " </div>,\n",
       " <div style=\"text-align: center; width: 200px; border: 1px solid #ddd; padding: 10px; border-radius: 5px;\">\n",
       " <img alt=\"In a Dark, Dark Wood\" src=\"book2.jpg\" style=\"width: 100%; height: auto; border-radius: 5px;\"/>\n",
       " <p><strong>In a Dark, Dark Wood</strong></p>\n",
       " <p style=\"color: green;\">£19.63</p>\n",
       " <p style=\"color: green;\">✔ In stock</p>\n",
       " <button style=\"background-color: blue; color: white; border: none; padding: 10px 15px; border-radius: 5px; cursor: pointer;\">Add to basket</button>\n",
       " </div>,\n",
       " <div style=\"text-align: center; width: 200px; border: 1px solid #ddd; padding: 10px; border-radius: 5px;\">\n",
       " <img alt=\"The Past Never Ends\" href=\"http://books.toscrape.com/media/cache/c0/59/c05972805aa7201171b8fc71a5b00292.jpg\" style=\"width: 100%; height: auto; border-radius: 5px;\"/>\n",
       " <p><strong>The Past Never Ends</strong></p>\n",
       " <p style=\"color: green;\">£56.50</p>\n",
       " <p style=\"color: green;\">✔ In stock</p>\n",
       " <button style=\"background-color: blue; color: white; border: none; padding: 10px 15px; border-radius: 5px; cursor: pointer;\">Add to basket</button>\n",
       " </div>,\n",
       " <div style=\"text-align: center; width: 200px; border: 1px solid #ddd; padding: 10px; border-radius: 5px;\">\n",
       " <img alt=\"A Murder in Time\" src=\"book4.jpg\" style=\"width: 100%; height: auto; border-radius: 5px;\"/>\n",
       " <p><strong>A Murder in Time</strong></p>\n",
       " <p style=\"color: green;\">£16.64</p>\n",
       " <p style=\"color: green;\"> Out stock</p>\n",
       " <button style=\"background-color: blue; color: white; border: none; padding: 10px 15px; border-radius: 5px; cursor: pointer;\">Add to basket</button>\n",
       " </div>,\n",
       " <div class=\"products\">\n",
       " <div class=\"product-card\" data-id=\"101\">\n",
       " <img alt=\"Wireless Headphones\" src=\"https://via.placeholder.com/250x150?text=Product+1\"/>\n",
       " <p class=\"name\">Wireless Headphones</p>\n",
       " <p class=\"price\" style=\"display: none;\">$49.99</p>\n",
       " <p class=\"colors\">Available colors: Black, White, Blue</p>\n",
       " <button>Add to Basket</button>\n",
       " </div>\n",
       " <div class=\"product-card\" data-id=\"102\">\n",
       " <img alt=\"Smart Speaker\" src=\"https://via.placeholder.com/250x150?text=Product+2\"/>\n",
       " <p class=\"name\">Smart Speaker</p>\n",
       " <p class=\"price\" style=\"display: none;\">$89.99</p>\n",
       " <p class=\"colors\">Available colors: Grey, Black</p>\n",
       " <button>Add to Basket</button>\n",
       " </div>\n",
       " <div class=\"product-card\" data-id=\"103\">\n",
       " <img alt=\"Smart Watch\" src=\"https://via.placeholder.com/250x150?text=Product+3\"/>\n",
       " <p class=\"name\">Smart Watch</p>\n",
       " <p class=\"price\" style=\"display: none;\">$149.99</p>\n",
       " <p class=\"colors\">Available colors: Black, Silver, Gold</p>\n",
       " <button>Add to Basket</button>\n",
       " </div>\n",
       " </div>,\n",
       " <div class=\"product-card\" data-id=\"101\">\n",
       " <img alt=\"Wireless Headphones\" src=\"https://via.placeholder.com/250x150?text=Product+1\"/>\n",
       " <p class=\"name\">Wireless Headphones</p>\n",
       " <p class=\"price\" style=\"display: none;\">$49.99</p>\n",
       " <p class=\"colors\">Available colors: Black, White, Blue</p>\n",
       " <button>Add to Basket</button>\n",
       " </div>,\n",
       " <div class=\"product-card\" data-id=\"102\">\n",
       " <img alt=\"Smart Speaker\" src=\"https://via.placeholder.com/250x150?text=Product+2\"/>\n",
       " <p class=\"name\">Smart Speaker</p>\n",
       " <p class=\"price\" style=\"display: none;\">$89.99</p>\n",
       " <p class=\"colors\">Available colors: Grey, Black</p>\n",
       " <button>Add to Basket</button>\n",
       " </div>,\n",
       " <div class=\"product-card\" data-id=\"103\">\n",
       " <img alt=\"Smart Watch\" src=\"https://via.placeholder.com/250x150?text=Product+3\"/>\n",
       " <p class=\"name\">Smart Watch</p>\n",
       " <p class=\"price\" style=\"display: none;\">$149.99</p>\n",
       " <p class=\"colors\">Available colors: Black, Silver, Gold</p>\n",
       " <button>Add to Basket</button>\n",
       " </div>,\n",
       " <div class=\"footer\">\n",
       " <p>© 2024 Web Scraping Practice. All Rights Reserved.</p>\n",
       " </div>]"
      ]
     },
     "execution_count": 29,
     "metadata": {},
     "output_type": "execute_result"
    }
   ],
   "source": [
    "all_divs = soup.find_all('div')\n",
    "all_divs"
   ]
  },
  {
   "cell_type": "code",
   "execution_count": null,
   "metadata": {},
   "outputs": [
    {
     "name": "stdout",
     "output_type": "stream",
     "text": [
      "Data has been saved to Extract_Table_Data.csv.\n"
     ]
    }
   ],
   "source": [
    "import pandas as pd\n",
    "\n",
    "# Fetch the webpage\n",
    "url = 'https://www.baraasallout.com/test.html'\n",
    "response = requests.get(url)\n",
    "\n",
    "# Parse the HTML content\n",
    "soup = BeautifulSoup(response.text, 'html.parser')\n",
    "\n",
    "# Extract all tables\n",
    "tables = soup.find_all('table')\n",
    "\n",
    "# Extract data from the first table\n",
    "if tables:\n",
    "    rows = tables[0].find_all('tr')\n",
    "    table_data = [[td.get_text(strip=True) for td in row.find_all('td')] for row in rows]\n",
    "else:\n",
    "    table_data = []\n",
    "\n",
    "# Extract all elements with the class 'bg-yellow'\n",
    "bg_yellow_elements = [el.name for el in soup.find_all('', attrs={'class': 'bg-yellow'})]\n",
    "\n",
    "# Extract all <div> tags\n",
    "all_divs = [div.get_text(strip=True) for div in soup.find_all('div')]\n",
    "\n",
    "# Prepare the data for saving to CSV\n",
    "data = {\n",
    "    'Table Data': table_data,\n",
    "    'BG Yellow Elements': bg_yellow_elements,\n",
    "    'DIV Content': all_divs\n",
    "}\n",
    "\n",
    "# Adjust for different lengths (pad with None)\n",
    "max_length = max(len(data['Table Data']), len(data['BG Yellow Elements']), len(data['DIV Content']))\n",
    "data['Table Data'] += [None] * (max_length - len(data['Table Data']))\n",
    "data['BG Yellow Elements'] += [None] * (max_length - len(data['BG Yellow Elements']))\n",
    "data['DIV Content'] += [None] * (max_length - len(data['DIV Content']))\n",
    "\n",
    "# Create a DataFrame\n",
    "df = pd.DataFrame({\n",
    "    'Table Data': ['; '.join(row) if row else None for row in data['Table Data']],  # Join table rows\n",
    "    'BG Yellow Elements': data['BG Yellow Elements'],\n",
    "    'DIV Content': data['DIV Content']\n",
    "})\n",
    "\n",
    "csv_file = 'Extract_Table_Data.csv'\n",
    "df.to_csv(csv_file, index=False, encoding='utf-8')\n",
    "\n",
    "print(f\"Data has been saved to {csv_file}.\")\n"
   ]
  },
  {
   "cell_type": "code",
   "execution_count": null,
   "metadata": {},
   "outputs": [
    {
     "name": "stdout",
     "output_type": "stream",
     "text": [
      "{'BookTitle': 'Sharp Objects', 'Price': '£47.82', 'StockAvailability': '✔ In stock', 'ButtonText': 'Add to basket'}\n",
      "{'BookTitle': 'In a Dark, Dark Wood', 'Price': '£19.63', 'StockAvailability': '✔ In stock', 'ButtonText': 'Add to basket'}\n",
      "{'BookTitle': 'The Past Never Ends', 'Price': '£56.50', 'StockAvailability': '✔ In stock', 'ButtonText': 'Add to basket'}\n",
      "{'BookTitle': 'A Murder in Time', 'Price': '£16.64', 'StockAvailability': 'Out stock', 'ButtonText': 'Add to basket'}\n"
     ]
    }
   ],
   "source": [
    "book_cards = soup.find_all('div', style=lambda value: value and 'text-align: center' in value)\n",
    "\n",
    "books_data = []\n",
    "for card in book_cards:\n",
    "    title = card.find('p').strong.text\n",
    "    price = card.find('p', style=lambda value: value and 'color: green' in value).text\n",
    "    stock = card.find_all('p', style=lambda value: value and 'color: green' in value)[-1].text.strip()\n",
    "    button_text = card.find('button').text.strip()\n",
    "\n",
    "    books_data.append({\n",
    "        'BookTitle': title,\n",
    "        'Price': price,\n",
    "        'StockAvailability': stock,\n",
    "        'ButtonText': button_text\n",
    "    })\n",
    "\n",
    "for book in books_data:\n",
    "    print(book)"
   ]
  },
  {
   "cell_type": "code",
   "execution_count": null,
   "metadata": {},
   "outputs": [
    {
     "name": "stdout",
     "output_type": "stream",
     "text": [
      "Product data has been saved to Product_Information.json.\n"
     ]
    }
   ],
   "source": [
    "import requests\n",
    "from bs4 import BeautifulSoup\n",
    "import json\n",
    "\n",
    "# Fetch the webpage\n",
    "url = 'https://www.baraasallout.com/test.html'\n",
    "response = requests.get(url)\n",
    "\n",
    "# Parse the HTML content\n",
    "soup = BeautifulSoup(response.text, 'html.parser')\n",
    "\n",
    "# Extract product information (assuming each card is within a div with class 'book-card')\n",
    "product_cards = soup.find_all('div', class_='book-card')\n",
    "\n",
    "# Extract details for each card\n",
    "products = []\n",
    "for card in product_cards:\n",
    "    # Extract book title\n",
    "    title = card.find('h3').get_text(strip=True) if card.find('h3') else None\n",
    "    \n",
    "    # Extract price\n",
    "    price = card.find('p', class_='price').get_text(strip=True) if card.find('p', class_='price') else None\n",
    "    \n",
    "    # Extract stock availability\n",
    "    stock_availability = card.find('p', class_='availability').get_text(strip=True) if card.find('p', class_='availability') else None\n",
    "    \n",
    "    # Extract button text\n",
    "    button = card.find('button').get_text(strip=True) if card.find('button') else None\n",
    "    \n",
    "    # Append extracted information to the products list\n",
    "    products.append({\n",
    "        \"BookTitle\": title,\n",
    "        \"Price\": price,\n",
    "        \"StockAvailability\": stock_availability,\n",
    "        \"ButtonText\": button\n",
    "    })\n",
    "\n",
    "json_file = 'Product_Information.json'\n",
    "with open(json_file, 'w', encoding='utf-8') as file:\n",
    "    json.dump(products, file, indent=4, ensure_ascii=False)\n",
    "\n",
    "print(f\"Product data has been saved to {json_file}.\")\n"
   ]
  },
  {
   "cell_type": "code",
   "execution_count": 51,
   "metadata": {},
   "outputs": [
    {
     "data": {
      "text/plain": [
       "[<form>\n",
       " <label for=\"username\">Username:</label>\n",
       " <input id=\"username\" name=\"username\" placeholder=\"Enter your username\" type=\"text\"/>\n",
       " <label for=\"password\">Password:</label>\n",
       " <input id=\"password\" name=\"password\" placeholder=\"Enter your password\" type=\"password\"/>\n",
       " <label for=\"options\">Choose an option:</label>\n",
       " <select id=\"options\" name=\"options\">\n",
       " <option value=\"option1\">Option 1</option>\n",
       " <option value=\"option2\">Option 2</option>\n",
       " <option value=\"option3\">Option 3</option>\n",
       " </select>\n",
       " <label>\n",
       " <input name=\"terms\" type=\"checkbox\"/> I agree to the terms and conditions\n",
       "             </label>\n",
       " <input type=\"submit\" value=\"Submit\"/>\n",
       " </form>]"
      ]
     },
     "execution_count": 51,
     "metadata": {},
     "output_type": "execute_result"
    }
   ],
   "source": [
    "forms = soup.find_all('form')\n",
    "forms"
   ]
  },
  {
   "cell_type": "code",
   "execution_count": 57,
   "metadata": {},
   "outputs": [
    {
     "data": {
      "text/plain": [
       "[<input id=\"username\" name=\"username\" placeholder=\"Enter your username\" type=\"text\"/>,\n",
       " <input id=\"password\" name=\"password\" placeholder=\"Enter your password\" type=\"password\"/>,\n",
       " <input name=\"terms\" type=\"checkbox\"/>,\n",
       " <input type=\"submit\" value=\"Submit\"/>]"
      ]
     },
     "execution_count": 57,
     "metadata": {},
     "output_type": "execute_result"
    }
   ],
   "source": [
    "# Extract input fields\n",
    "input_fields = first_form.find_all('input')\n",
    "input_fields"
   ]
  },
  {
   "cell_type": "code",
   "execution_count": 54,
   "metadata": {},
   "outputs": [
    {
     "data": {
      "text/plain": [
       "'\\nUsername:\\n\\nPassword:\\n\\nChoose an option:\\n\\nOption 1\\nOption 2\\nOption 3\\n\\n\\n I agree to the terms and conditions\\n            \\n\\n'"
      ]
     },
     "execution_count": 54,
     "metadata": {},
     "output_type": "execute_result"
    }
   ],
   "source": [
    "first_form.get_text()"
   ]
  },
  {
   "cell_type": "code",
   "execution_count": null,
   "metadata": {},
   "outputs": [
    {
     "name": "stdout",
     "output_type": "stream",
     "text": [
      "{'Field Name': 'username', 'Input Type': 'text', 'Default Value': 'N/A'}\n",
      "{'Field Name': 'password', 'Input Type': 'password', 'Default Value': 'N/A'}\n",
      "{'Field Name': 'terms', 'Input Type': 'checkbox', 'Default Value': 'N/A'}\n",
      "{'Field Name': 'N/A', 'Input Type': 'submit', 'Default Value': 'Submit'}\n"
     ]
    }
   ],
   "source": [
    "fields_data = []\n",
    "\n",
    "for field in input_fields:\n",
    "    field_name = field.get('name', 'N/A') \n",
    "    input_type = field.get('type', 'text')  \n",
    "    default_value = field.get('value', 'N/A')  \n",
    "    fields_data.append({\n",
    "        'Field Name': field_name,\n",
    "        'Input Type': input_type,\n",
    "        'Default Value': default_value\n",
    "    })\n",
    "\n",
    "for field in fields_data:\n",
    "    print(field)"
   ]
  },
  {
   "cell_type": "code",
   "execution_count": null,
   "metadata": {},
   "outputs": [
    {
     "name": "stdout",
     "output_type": "stream",
     "text": [
      "Form details have been saved to Form_Details.json.\n"
     ]
    }
   ],
   "source": [
    "import requests\n",
    "from bs4 import BeautifulSoup\n",
    "import json\n",
    "\n",
    "# Fetch the webpage\n",
    "url = 'https://www.baraasallout.com/test.html'\n",
    "response = requests.get(url)\n",
    "\n",
    "# Parse the HTML content\n",
    "soup = BeautifulSoup(response.text, 'html.parser')\n",
    "\n",
    "# Extract form details\n",
    "forms = soup.find_all('form')\n",
    "form_details = []\n",
    "\n",
    "for form in forms:\n",
    "    inputs = form.find_all('input')\n",
    "    input_details = []\n",
    "    for input_tag in inputs:\n",
    "        field_name = input_tag.get('name', 'N/A')  # Field name\n",
    "        input_type = input_tag.get('type', 'text')  # Input type\n",
    "        default_value = input_tag.get('value', None)  # Default value\n",
    "        input_details.append({\n",
    "            \"FieldName\": field_name,\n",
    "            \"InputType\": input_type,\n",
    "            \"DefaultValue\": default_value\n",
    "        })\n",
    "    form_details.append(input_details)\n",
    "\n",
    "form_json_file = 'Form_Details.json'\n",
    "with open(form_json_file, 'w', encoding='utf-8') as file:\n",
    "    json.dump(form_details, file, indent=4, ensure_ascii=False)\n",
    "\n",
    "print(f\"Form details have been saved to {form_json_file}.\")\n"
   ]
  },
  {
   "cell_type": "code",
   "execution_count": 73,
   "metadata": {},
   "outputs": [
    {
     "data": {
      "text/plain": [
       "[]"
      ]
     },
     "execution_count": 73,
     "metadata": {},
     "output_type": "execute_result"
    }
   ],
   "source": [
    "links = soup.find_all('a')\n",
    "links"
   ]
  },
  {
   "cell_type": "code",
   "execution_count": null,
   "metadata": {},
   "outputs": [
    {
     "name": "stdout",
     "output_type": "stream",
     "text": [
      "No <a> tag found in the HTML.\n"
     ]
    }
   ],
   "source": [
    "first_link = soup.find('a')  \n",
    "\n",
    "if first_link:\n",
    "    link_text = first_link.get_text(strip=True)\n",
    "    link_attributes = first_link.attrs\n",
    "    print(\"First Link Text:\", link_text)\n",
    "    print(\"First Link Attributes:\", link_attributes)\n",
    "else:\n",
    "    print(\"No <a> tag found in the HTML.\")"
   ]
  },
  {
   "cell_type": "code",
   "execution_count": null,
   "metadata": {},
   "outputs": [
    {
     "ename": "AttributeError",
     "evalue": "'NoneType' object has no attribute 'get_text'",
     "output_type": "error",
     "traceback": [
      "\u001b[1;31m---------------------------------------------------------------------------\u001b[0m",
      "\u001b[1;31mAttributeError\u001b[0m                            Traceback (most recent call last)",
      "Cell \u001b[1;32mIn[34], line 1\u001b[0m\n\u001b[1;32m----> 1\u001b[0m \u001b[43mfirst_link\u001b[49m\u001b[38;5;241;43m.\u001b[39;49m\u001b[43mget_text\u001b[49m()\n\u001b[0;32m      2\u001b[0m first_link\u001b[38;5;241m.\u001b[39mattrs\n",
      "\u001b[1;31mAttributeError\u001b[0m: 'NoneType' object has no attribute 'get_text'"
     ]
    }
   ],
   "source": [
    "first_link.get_text()\n",
    "first_link.attrs # Not Existing attributes"
   ]
  },
  {
   "cell_type": "code",
   "execution_count": null,
   "metadata": {},
   "outputs": [
    {
     "ename": "AttributeError",
     "evalue": "'NoneType' object has no attribute 'attrs'",
     "output_type": "error",
     "traceback": [
      "\u001b[1;31m---------------------------------------------------------------------------\u001b[0m",
      "\u001b[1;31mAttributeError\u001b[0m                            Traceback (most recent call last)",
      "Cell \u001b[1;32mIn[36], line 1\u001b[0m\n\u001b[1;32m----> 1\u001b[0m \u001b[43mfirst_link\u001b[49m\u001b[38;5;241;43m.\u001b[39;49m\u001b[43mattrs\u001b[49m[\u001b[38;5;124m'\u001b[39m\u001b[38;5;124mhref\u001b[39m\u001b[38;5;124m'\u001b[39m]\n",
      "\u001b[1;31mAttributeError\u001b[0m: 'NoneType' object has no attribute 'attrs'"
     ]
    }
   ],
   "source": [
    "first_link.attrs['href'] # Not  Existing attributes"
   ]
  },
  {
   "cell_type": "code",
   "execution_count": 79,
   "metadata": {},
   "outputs": [
    {
     "data": {
      "text/plain": [
       "<iframe height=\"315\" src=\"https://www.youtube.com/watch?v=ujf9RNuBdCU\" width=\"560\"></iframe>"
      ]
     },
     "execution_count": 79,
     "metadata": {},
     "output_type": "execute_result"
    }
   ],
   "source": [
    "iframe = soup.find('iframe')\n",
    "iframe"
   ]
  },
  {
   "cell_type": "code",
   "execution_count": null,
   "metadata": {},
   "outputs": [
    {
     "name": "stdout",
     "output_type": "stream",
     "text": [
      "Links and multimedia data have been saved to Links_and_Multimedia.json.\n"
     ]
    }
   ],
   "source": [
    "# Extract hyperlinks and multimedia links\n",
    "links = soup.find_all('a', href=True)  # All <a> tags with href\n",
    "hyperlinks = [{\"Text\": link.get_text(strip=True), \"Href\": link['href']} for link in links]\n",
    "\n",
    "# Extract video links from <iframe>\n",
    "iframes = soup.find_all('iframe')\n",
    "videos = [{\"Src\": iframe.get('src', 'N/A')} for iframe in iframes]\n",
    "\n",
    "# Prepare the data\n",
    "multimedia_data = {\n",
    "    \"Hyperlinks\": hyperlinks,\n",
    "    \"Videos\": videos\n",
    "}\n",
    "\n",
    "links_json_file = 'Links_and_Multimedia.json'\n",
    "with open(links_json_file, 'w', encoding='utf-8') as file:\n",
    "    json.dump(multimedia_data, file, indent=4, ensure_ascii=False)\n",
    "\n",
    "print(f\"Links and multimedia data have been saved to {links_json_file}.\")\n"
   ]
  },
  {
   "cell_type": "code",
   "execution_count": 85,
   "metadata": {},
   "outputs": [
    {
     "data": {
      "text/plain": [
       "[<div class=\"product-card\" data-id=\"101\">\n",
       " <img alt=\"Wireless Headphones\" src=\"https://via.placeholder.com/250x150?text=Product+1\"/>\n",
       " <p class=\"name\">Wireless Headphones</p>\n",
       " <p class=\"price\" style=\"display: none;\">$49.99</p>\n",
       " <p class=\"colors\">Available colors: Black, White, Blue</p>\n",
       " <button>Add to Basket</button>\n",
       " </div>,\n",
       " <div class=\"product-card\" data-id=\"102\">\n",
       " <img alt=\"Smart Speaker\" src=\"https://via.placeholder.com/250x150?text=Product+2\"/>\n",
       " <p class=\"name\">Smart Speaker</p>\n",
       " <p class=\"price\" style=\"display: none;\">$89.99</p>\n",
       " <p class=\"colors\">Available colors: Grey, Black</p>\n",
       " <button>Add to Basket</button>\n",
       " </div>,\n",
       " <div class=\"product-card\" data-id=\"103\">\n",
       " <img alt=\"Smart Watch\" src=\"https://via.placeholder.com/250x150?text=Product+3\"/>\n",
       " <p class=\"name\">Smart Watch</p>\n",
       " <p class=\"price\" style=\"display: none;\">$149.99</p>\n",
       " <p class=\"colors\">Available colors: Black, Silver, Gold</p>\n",
       " <button>Add to Basket</button>\n",
       " </div>]"
      ]
     },
     "execution_count": 85,
     "metadata": {},
     "output_type": "execute_result"
    }
   ],
   "source": [
    "# Find all product cards\n",
    "product_cards = soup.find_all(\"div\", class_=\"product-card\")\n",
    "product_cards"
   ]
  },
  {
   "cell_type": "code",
   "execution_count": null,
   "metadata": {},
   "outputs": [
    {
     "name": "stdout",
     "output_type": "stream",
     "text": [
      "{'id': '101', 'name': 'Wireless Headphones', 'price': '$49.99', 'colors': 'Black, White, Blue'}\n",
      "{'id': '102', 'name': 'Smart Speaker', 'price': '$89.99', 'colors': 'Grey, Black'}\n",
      "{'id': '103', 'name': 'Smart Watch', 'price': '$149.99', 'colors': 'Black, Silver, Gold'}\n"
     ]
    }
   ],
   "source": [
    "products = []\n",
    "for card in product_cards:\n",
    "    product_id = card.get(\"data-id\")\n",
    "    name = card.find(\"p\", class_=\"name\").text\n",
    "    price = card.find(\"p\", class_=\"price\").text.strip()  # Extract hidden price\n",
    "    colors = card.find(\"p\", class_=\"colors\").text.replace(\"Available colors: \", \"\").strip()\n",
    "    products.append({\n",
    "        \"id\": product_id,\n",
    "        \"name\": name,\n",
    "        \"price\": price,\n",
    "        \"colors\": colors\n",
    "    })\n",
    "\n",
    "for product in products:\n",
    "    print(product)"
   ]
  },
  {
   "cell_type": "code",
   "execution_count": null,
   "metadata": {},
   "outputs": [],
   "source": []
  }
 ],
 "metadata": {
  "kernelspec": {
   "display_name": "Python 3",
   "language": "python",
   "name": "python3"
  },
  "language_info": {
   "codemirror_mode": {
    "name": "ipython",
    "version": 3
   },
   "file_extension": ".py",
   "mimetype": "text/x-python",
   "name": "python",
   "nbconvert_exporter": "python",
   "pygments_lexer": "ipython3",
   "version": "3.12.1"
  }
 },
 "nbformat": 4,
 "nbformat_minor": 2
}
